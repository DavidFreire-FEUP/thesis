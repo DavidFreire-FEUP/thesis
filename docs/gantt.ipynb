{
 "cells": [
  {
   "cell_type": "code",
   "execution_count": 1,
   "metadata": {},
   "outputs": [],
   "source": [
    "import plotly.express as px\n",
    "import pandas as pd"
   ]
  },
  {
   "cell_type": "code",
   "execution_count": 59,
   "metadata": {},
   "outputs": [
    {
     "data": {
      "text/html": [
       "<div>\n",
       "<style scoped>\n",
       "    .dataframe tbody tr th:only-of-type {\n",
       "        vertical-align: middle;\n",
       "    }\n",
       "\n",
       "    .dataframe tbody tr th {\n",
       "        vertical-align: top;\n",
       "    }\n",
       "\n",
       "    .dataframe thead th {\n",
       "        text-align: right;\n",
       "    }\n",
       "</style>\n",
       "<table border=\"1\" class=\"dataframe\">\n",
       "  <thead>\n",
       "    <tr style=\"text-align: right;\">\n",
       "      <th></th>\n",
       "      <th>Name</th>\n",
       "      <th>Start Date</th>\n",
       "      <th>End Date</th>\n",
       "      <th>Color</th>\n",
       "      <th>Topic</th>\n",
       "    </tr>\n",
       "  </thead>\n",
       "  <tbody>\n",
       "    <tr>\n",
       "      <th>5</th>\n",
       "      <td>Data gathering</td>\n",
       "      <td>2023-02-01 08:00:00</td>\n",
       "      <td>2023-02-22 17:00:00</td>\n",
       "      <td>Development</td>\n",
       "      <td>Development subtask 1</td>\n",
       "    </tr>\n",
       "    <tr>\n",
       "      <th>6</th>\n",
       "      <td>EDA</td>\n",
       "      <td>2023-02-23 08:00:00</td>\n",
       "      <td>2023-03-02 17:00:00</td>\n",
       "      <td>Development</td>\n",
       "      <td>Development subtask 2</td>\n",
       "    </tr>\n",
       "    <tr>\n",
       "      <th>7</th>\n",
       "      <td>CXN implementation study</td>\n",
       "      <td>2023-03-01 08:00:00</td>\n",
       "      <td>2023-03-29 17:00:00</td>\n",
       "      <td>Development</td>\n",
       "      <td>Development subtask 3</td>\n",
       "    </tr>\n",
       "    <tr>\n",
       "      <th>8</th>\n",
       "      <td>Small scale experiment</td>\n",
       "      <td>2023-03-30 08:00:00</td>\n",
       "      <td>2023-06-01 17:00:00</td>\n",
       "      <td>Development</td>\n",
       "      <td>Development subtask 4</td>\n",
       "    </tr>\n",
       "    <tr>\n",
       "      <th>13</th>\n",
       "      <td>Real scale implementation</td>\n",
       "      <td>2023-06-01 08:00:00</td>\n",
       "      <td>2023-07-03 17:00:00</td>\n",
       "      <td>Development</td>\n",
       "      <td>Development subtask 5</td>\n",
       "    </tr>\n",
       "    <tr>\n",
       "      <th>9</th>\n",
       "      <td>Setup</td>\n",
       "      <td>2023-03-30 08:00:00</td>\n",
       "      <td>2023-04-06 17:00:00</td>\n",
       "      <td>Experiment</td>\n",
       "      <td>Experiment subtasks 1</td>\n",
       "    </tr>\n",
       "    <tr>\n",
       "      <th>10</th>\n",
       "      <td>Implement classical methodologies</td>\n",
       "      <td>2023-04-07 08:00:00</td>\n",
       "      <td>2023-04-21 17:00:00</td>\n",
       "      <td>Experiment</td>\n",
       "      <td>Experiment subtasks 2</td>\n",
       "    </tr>\n",
       "    <tr>\n",
       "      <th>11</th>\n",
       "      <td>Implement CXN</td>\n",
       "      <td>2023-04-21 08:00:00</td>\n",
       "      <td>2023-05-18 17:00:00</td>\n",
       "      <td>Experiment</td>\n",
       "      <td>Experiment subtasks 3</td>\n",
       "    </tr>\n",
       "    <tr>\n",
       "      <th>12</th>\n",
       "      <td>Validation</td>\n",
       "      <td>2023-05-18 08:00:00</td>\n",
       "      <td>2023-06-01 17:00:00</td>\n",
       "      <td>Experiment</td>\n",
       "      <td>Experiment subtasks 4</td>\n",
       "    </tr>\n",
       "    <tr>\n",
       "      <th>1</th>\n",
       "      <td>Introduction</td>\n",
       "      <td>2022-09-19 08:00:00</td>\n",
       "      <td>2022-11-15 17:00:00</td>\n",
       "      <td>Introductory</td>\n",
       "      <td>Introduction subtask 1</td>\n",
       "    </tr>\n",
       "    <tr>\n",
       "      <th>2</th>\n",
       "      <td>State of the art review</td>\n",
       "      <td>2022-11-15 08:00:00</td>\n",
       "      <td>2023-01-09 17:00:00</td>\n",
       "      <td>Introductory</td>\n",
       "      <td>Introduction subtask 2</td>\n",
       "    </tr>\n",
       "    <tr>\n",
       "      <th>3</th>\n",
       "      <td>Python library familiarization</td>\n",
       "      <td>2023-01-09 08:00:00</td>\n",
       "      <td>2023-02-01 17:00:00</td>\n",
       "      <td>Introductory</td>\n",
       "      <td>Introduction subtask 3</td>\n",
       "    </tr>\n",
       "    <tr>\n",
       "      <th>4</th>\n",
       "      <td>Development phase</td>\n",
       "      <td>2023-02-01 08:00:00</td>\n",
       "      <td>2023-07-03 17:00:00</td>\n",
       "      <td>Body of work</td>\n",
       "      <td>Main phases</td>\n",
       "    </tr>\n",
       "    <tr>\n",
       "      <th>0</th>\n",
       "      <td>Preparatory phase</td>\n",
       "      <td>2022-09-19 08:00:00</td>\n",
       "      <td>2023-02-01 17:00:00</td>\n",
       "      <td>Intro</td>\n",
       "      <td>Main phases</td>\n",
       "    </tr>\n",
       "  </tbody>\n",
       "</table>\n",
       "</div>"
      ],
      "text/plain": [
       "                                 Name          Start Date            End Date  \\\n",
       "5                      Data gathering 2023-02-01 08:00:00 2023-02-22 17:00:00   \n",
       "6                                 EDA 2023-02-23 08:00:00 2023-03-02 17:00:00   \n",
       "7            CXN implementation study 2023-03-01 08:00:00 2023-03-29 17:00:00   \n",
       "8              Small scale experiment 2023-03-30 08:00:00 2023-06-01 17:00:00   \n",
       "13          Real scale implementation 2023-06-01 08:00:00 2023-07-03 17:00:00   \n",
       "9                               Setup 2023-03-30 08:00:00 2023-04-06 17:00:00   \n",
       "10  Implement classical methodologies 2023-04-07 08:00:00 2023-04-21 17:00:00   \n",
       "11                      Implement CXN 2023-04-21 08:00:00 2023-05-18 17:00:00   \n",
       "12                         Validation 2023-05-18 08:00:00 2023-06-01 17:00:00   \n",
       "1                        Introduction 2022-09-19 08:00:00 2022-11-15 17:00:00   \n",
       "2             State of the art review 2022-11-15 08:00:00 2023-01-09 17:00:00   \n",
       "3      Python library familiarization 2023-01-09 08:00:00 2023-02-01 17:00:00   \n",
       "4                   Development phase 2023-02-01 08:00:00 2023-07-03 17:00:00   \n",
       "0                   Preparatory phase 2022-09-19 08:00:00 2023-02-01 17:00:00   \n",
       "\n",
       "           Color                   Topic  \n",
       "5    Development   Development subtask 1  \n",
       "6    Development   Development subtask 2  \n",
       "7    Development   Development subtask 3  \n",
       "8    Development   Development subtask 4  \n",
       "13   Development   Development subtask 5  \n",
       "9     Experiment   Experiment subtasks 1  \n",
       "10    Experiment   Experiment subtasks 2  \n",
       "11    Experiment   Experiment subtasks 3  \n",
       "12    Experiment   Experiment subtasks 4  \n",
       "1   Introductory  Introduction subtask 1  \n",
       "2   Introductory  Introduction subtask 2  \n",
       "3   Introductory  Introduction subtask 3  \n",
       "4   Body of work             Main phases  \n",
       "0          Intro             Main phases  "
      ]
     },
     "execution_count": 59,
     "metadata": {},
     "output_type": "execute_result"
    }
   ],
   "source": [
    "df = pd.read_excel(\"Online Gantt 20230109.xlsx\")\n",
    "df = df.sort_values(by=[\"Topic\", \"Color\", \"Start Date\"])\n",
    "df"
   ]
  },
  {
   "cell_type": "code",
   "execution_count": 60,
   "metadata": {},
   "outputs": [
    {
     "data": {
      "application/vnd.plotly.v1+json": {
       "config": {
        "plotlyServerURL": "https://plot.ly"
       },
       "data": [
        {
         "alignmentgroup": "True",
         "base": [
          "2023-02-01T08:00:00",
          "2023-02-23T08:00:00",
          "2023-03-01T08:00:00",
          "2023-03-30T08:00:00",
          "2023-06-01T08:00:00"
         ],
         "hovertemplate": "Color=Development<br>Start Date=%{base}<br>End Date=%{x}<br>Topic=%{y}<br>Name=%{text}<extra></extra>",
         "legendgroup": "Development",
         "marker": {
          "color": "#F8766D",
          "pattern": {
           "shape": ""
          }
         },
         "name": "Development",
         "offsetgroup": "Development",
         "orientation": "h",
         "showlegend": true,
         "text": [
          "Data gathering",
          "EDA",
          "CXN implementation study",
          "Small scale experiment",
          "Real scale implementation"
         ],
         "textposition": "auto",
         "type": "bar",
         "x": [
          1846800000,
          637200000,
          2451600000,
          5475600000,
          2797200000
         ],
         "xaxis": "x",
         "y": [
          "Development subtask 1",
          "Development subtask 2",
          "Development subtask 3",
          "Development subtask 4",
          "Development subtask 5"
         ],
         "yaxis": "y"
        },
        {
         "alignmentgroup": "True",
         "base": [
          "2023-03-30T08:00:00",
          "2023-04-07T08:00:00",
          "2023-04-21T08:00:00",
          "2023-05-18T08:00:00"
         ],
         "hovertemplate": "Color=Experiment<br>Start Date=%{base}<br>End Date=%{x}<br>Topic=%{y}<br>Name=%{text}<extra></extra>",
         "legendgroup": "Experiment",
         "marker": {
          "color": "#A3A500",
          "pattern": {
           "shape": ""
          }
         },
         "name": "Experiment",
         "offsetgroup": "Experiment",
         "orientation": "h",
         "showlegend": true,
         "text": [
          "Setup",
          "Implement classical methodologies",
          "Implement CXN",
          "Validation"
         ],
         "textposition": "auto",
         "type": "bar",
         "x": [
          637200000,
          1242000000,
          2365200000,
          1242000000
         ],
         "xaxis": "x",
         "y": [
          "Experiment subtasks 1",
          "Experiment subtasks 2",
          "Experiment subtasks 3",
          "Experiment subtasks 4"
         ],
         "yaxis": "y"
        },
        {
         "alignmentgroup": "True",
         "base": [
          "2022-09-19T08:00:00",
          "2022-11-15T08:00:00",
          "2023-01-09T08:00:00"
         ],
         "hovertemplate": "Color=Introductory<br>Start Date=%{base}<br>End Date=%{x}<br>Topic=%{y}<br>Name=%{text}<extra></extra>",
         "legendgroup": "Introductory",
         "marker": {
          "color": "#00BF7D",
          "pattern": {
           "shape": ""
          }
         },
         "name": "Introductory",
         "offsetgroup": "Introductory",
         "orientation": "h",
         "showlegend": true,
         "text": [
          "Introduction",
          "State of the art review",
          "Python library familiarization"
         ],
         "textposition": "auto",
         "type": "bar",
         "x": [
          4957200000,
          4784400000,
          2019600000
         ],
         "xaxis": "x",
         "y": [
          "Introduction subtask 1",
          "Introduction subtask 2",
          "Introduction subtask 3"
         ],
         "yaxis": "y"
        },
        {
         "alignmentgroup": "True",
         "base": [
          "2023-02-01T08:00:00"
         ],
         "hovertemplate": "Color=Body of work<br>Start Date=%{base}<br>End Date=%{x}<br>Topic=%{y}<br>Name=%{text}<extra></extra>",
         "legendgroup": "Body of work",
         "marker": {
          "color": "#00B0F6",
          "pattern": {
           "shape": ""
          }
         },
         "name": "Body of work",
         "offsetgroup": "Body of work",
         "orientation": "h",
         "showlegend": true,
         "text": [
          "Development phase"
         ],
         "textposition": "auto",
         "type": "bar",
         "x": [
          13165200000
         ],
         "xaxis": "x",
         "y": [
          "Main phases"
         ],
         "yaxis": "y"
        },
        {
         "alignmentgroup": "True",
         "base": [
          "2022-09-19T08:00:00"
         ],
         "hovertemplate": "Color=Intro<br>Start Date=%{base}<br>End Date=%{x}<br>Topic=%{y}<br>Name=%{text}<extra></extra>",
         "legendgroup": "Intro",
         "marker": {
          "color": "#E76BF3",
          "pattern": {
           "shape": ""
          }
         },
         "name": "Intro",
         "offsetgroup": "Intro",
         "orientation": "h",
         "showlegend": true,
         "text": [
          "Preparatory phase"
         ],
         "textposition": "auto",
         "type": "bar",
         "x": [
          11696400000
         ],
         "xaxis": "x",
         "y": [
          "Main phases"
         ],
         "yaxis": "y"
        }
       ],
       "layout": {
        "barmode": "overlay",
        "height": 600,
        "legend": {
         "title": {
          "text": "Color"
         },
         "tracegroupgap": 0
        },
        "margin": {
         "t": 60
        },
        "template": {
         "data": {
          "bar": [
           {
            "error_x": {
             "color": "rgb(51,51,51)"
            },
            "error_y": {
             "color": "rgb(51,51,51)"
            },
            "marker": {
             "line": {
              "color": "rgb(237,237,237)",
              "width": 0.5
             },
             "pattern": {
              "fillmode": "overlay",
              "size": 10,
              "solidity": 0.2
             }
            },
            "type": "bar"
           }
          ],
          "barpolar": [
           {
            "marker": {
             "line": {
              "color": "rgb(237,237,237)",
              "width": 0.5
             },
             "pattern": {
              "fillmode": "overlay",
              "size": 10,
              "solidity": 0.2
             }
            },
            "type": "barpolar"
           }
          ],
          "carpet": [
           {
            "aaxis": {
             "endlinecolor": "rgb(51,51,51)",
             "gridcolor": "white",
             "linecolor": "white",
             "minorgridcolor": "white",
             "startlinecolor": "rgb(51,51,51)"
            },
            "baxis": {
             "endlinecolor": "rgb(51,51,51)",
             "gridcolor": "white",
             "linecolor": "white",
             "minorgridcolor": "white",
             "startlinecolor": "rgb(51,51,51)"
            },
            "type": "carpet"
           }
          ],
          "choropleth": [
           {
            "colorbar": {
             "outlinewidth": 0,
             "tickcolor": "rgb(237,237,237)",
             "ticklen": 6,
             "ticks": "inside"
            },
            "type": "choropleth"
           }
          ],
          "contour": [
           {
            "colorbar": {
             "outlinewidth": 0,
             "tickcolor": "rgb(237,237,237)",
             "ticklen": 6,
             "ticks": "inside"
            },
            "colorscale": [
             [
              0,
              "rgb(20,44,66)"
             ],
             [
              1,
              "rgb(90,179,244)"
             ]
            ],
            "type": "contour"
           }
          ],
          "contourcarpet": [
           {
            "colorbar": {
             "outlinewidth": 0,
             "tickcolor": "rgb(237,237,237)",
             "ticklen": 6,
             "ticks": "inside"
            },
            "type": "contourcarpet"
           }
          ],
          "heatmap": [
           {
            "colorbar": {
             "outlinewidth": 0,
             "tickcolor": "rgb(237,237,237)",
             "ticklen": 6,
             "ticks": "inside"
            },
            "colorscale": [
             [
              0,
              "rgb(20,44,66)"
             ],
             [
              1,
              "rgb(90,179,244)"
             ]
            ],
            "type": "heatmap"
           }
          ],
          "heatmapgl": [
           {
            "colorbar": {
             "outlinewidth": 0,
             "tickcolor": "rgb(237,237,237)",
             "ticklen": 6,
             "ticks": "inside"
            },
            "colorscale": [
             [
              0,
              "rgb(20,44,66)"
             ],
             [
              1,
              "rgb(90,179,244)"
             ]
            ],
            "type": "heatmapgl"
           }
          ],
          "histogram": [
           {
            "marker": {
             "pattern": {
              "fillmode": "overlay",
              "size": 10,
              "solidity": 0.2
             }
            },
            "type": "histogram"
           }
          ],
          "histogram2d": [
           {
            "colorbar": {
             "outlinewidth": 0,
             "tickcolor": "rgb(237,237,237)",
             "ticklen": 6,
             "ticks": "inside"
            },
            "colorscale": [
             [
              0,
              "rgb(20,44,66)"
             ],
             [
              1,
              "rgb(90,179,244)"
             ]
            ],
            "type": "histogram2d"
           }
          ],
          "histogram2dcontour": [
           {
            "colorbar": {
             "outlinewidth": 0,
             "tickcolor": "rgb(237,237,237)",
             "ticklen": 6,
             "ticks": "inside"
            },
            "colorscale": [
             [
              0,
              "rgb(20,44,66)"
             ],
             [
              1,
              "rgb(90,179,244)"
             ]
            ],
            "type": "histogram2dcontour"
           }
          ],
          "mesh3d": [
           {
            "colorbar": {
             "outlinewidth": 0,
             "tickcolor": "rgb(237,237,237)",
             "ticklen": 6,
             "ticks": "inside"
            },
            "type": "mesh3d"
           }
          ],
          "parcoords": [
           {
            "line": {
             "colorbar": {
              "outlinewidth": 0,
              "tickcolor": "rgb(237,237,237)",
              "ticklen": 6,
              "ticks": "inside"
             }
            },
            "type": "parcoords"
           }
          ],
          "pie": [
           {
            "automargin": true,
            "type": "pie"
           }
          ],
          "scatter": [
           {
            "fillpattern": {
             "fillmode": "overlay",
             "size": 10,
             "solidity": 0.2
            },
            "type": "scatter"
           }
          ],
          "scatter3d": [
           {
            "line": {
             "colorbar": {
              "outlinewidth": 0,
              "tickcolor": "rgb(237,237,237)",
              "ticklen": 6,
              "ticks": "inside"
             }
            },
            "marker": {
             "colorbar": {
              "outlinewidth": 0,
              "tickcolor": "rgb(237,237,237)",
              "ticklen": 6,
              "ticks": "inside"
             }
            },
            "type": "scatter3d"
           }
          ],
          "scattercarpet": [
           {
            "marker": {
             "colorbar": {
              "outlinewidth": 0,
              "tickcolor": "rgb(237,237,237)",
              "ticklen": 6,
              "ticks": "inside"
             }
            },
            "type": "scattercarpet"
           }
          ],
          "scattergeo": [
           {
            "marker": {
             "colorbar": {
              "outlinewidth": 0,
              "tickcolor": "rgb(237,237,237)",
              "ticklen": 6,
              "ticks": "inside"
             }
            },
            "type": "scattergeo"
           }
          ],
          "scattergl": [
           {
            "marker": {
             "colorbar": {
              "outlinewidth": 0,
              "tickcolor": "rgb(237,237,237)",
              "ticklen": 6,
              "ticks": "inside"
             }
            },
            "type": "scattergl"
           }
          ],
          "scattermapbox": [
           {
            "marker": {
             "colorbar": {
              "outlinewidth": 0,
              "tickcolor": "rgb(237,237,237)",
              "ticklen": 6,
              "ticks": "inside"
             }
            },
            "type": "scattermapbox"
           }
          ],
          "scatterpolar": [
           {
            "marker": {
             "colorbar": {
              "outlinewidth": 0,
              "tickcolor": "rgb(237,237,237)",
              "ticklen": 6,
              "ticks": "inside"
             }
            },
            "type": "scatterpolar"
           }
          ],
          "scatterpolargl": [
           {
            "marker": {
             "colorbar": {
              "outlinewidth": 0,
              "tickcolor": "rgb(237,237,237)",
              "ticklen": 6,
              "ticks": "inside"
             }
            },
            "type": "scatterpolargl"
           }
          ],
          "scatterternary": [
           {
            "marker": {
             "colorbar": {
              "outlinewidth": 0,
              "tickcolor": "rgb(237,237,237)",
              "ticklen": 6,
              "ticks": "inside"
             }
            },
            "type": "scatterternary"
           }
          ],
          "surface": [
           {
            "colorbar": {
             "outlinewidth": 0,
             "tickcolor": "rgb(237,237,237)",
             "ticklen": 6,
             "ticks": "inside"
            },
            "colorscale": [
             [
              0,
              "rgb(20,44,66)"
             ],
             [
              1,
              "rgb(90,179,244)"
             ]
            ],
            "type": "surface"
           }
          ],
          "table": [
           {
            "cells": {
             "fill": {
              "color": "rgb(237,237,237)"
             },
             "line": {
              "color": "white"
             }
            },
            "header": {
             "fill": {
              "color": "rgb(217,217,217)"
             },
             "line": {
              "color": "white"
             }
            },
            "type": "table"
           }
          ]
         },
         "layout": {
          "annotationdefaults": {
           "arrowhead": 0,
           "arrowwidth": 1
          },
          "autotypenumbers": "strict",
          "coloraxis": {
           "colorbar": {
            "outlinewidth": 0,
            "tickcolor": "rgb(237,237,237)",
            "ticklen": 6,
            "ticks": "inside"
           }
          },
          "colorscale": {
           "sequential": [
            [
             0,
             "rgb(20,44,66)"
            ],
            [
             1,
             "rgb(90,179,244)"
            ]
           ],
           "sequentialminus": [
            [
             0,
             "rgb(20,44,66)"
            ],
            [
             1,
             "rgb(90,179,244)"
            ]
           ]
          },
          "colorway": [
           "#F8766D",
           "#A3A500",
           "#00BF7D",
           "#00B0F6",
           "#E76BF3"
          ],
          "font": {
           "color": "rgb(51,51,51)"
          },
          "geo": {
           "bgcolor": "white",
           "lakecolor": "white",
           "landcolor": "rgb(237,237,237)",
           "showlakes": true,
           "showland": true,
           "subunitcolor": "white"
          },
          "hoverlabel": {
           "align": "left"
          },
          "hovermode": "closest",
          "paper_bgcolor": "white",
          "plot_bgcolor": "rgb(237,237,237)",
          "polar": {
           "angularaxis": {
            "gridcolor": "white",
            "linecolor": "white",
            "showgrid": true,
            "tickcolor": "rgb(51,51,51)",
            "ticks": "outside"
           },
           "bgcolor": "rgb(237,237,237)",
           "radialaxis": {
            "gridcolor": "white",
            "linecolor": "white",
            "showgrid": true,
            "tickcolor": "rgb(51,51,51)",
            "ticks": "outside"
           }
          },
          "scene": {
           "xaxis": {
            "backgroundcolor": "rgb(237,237,237)",
            "gridcolor": "white",
            "gridwidth": 2,
            "linecolor": "white",
            "showbackground": true,
            "showgrid": true,
            "tickcolor": "rgb(51,51,51)",
            "ticks": "outside",
            "zerolinecolor": "white"
           },
           "yaxis": {
            "backgroundcolor": "rgb(237,237,237)",
            "gridcolor": "white",
            "gridwidth": 2,
            "linecolor": "white",
            "showbackground": true,
            "showgrid": true,
            "tickcolor": "rgb(51,51,51)",
            "ticks": "outside",
            "zerolinecolor": "white"
           },
           "zaxis": {
            "backgroundcolor": "rgb(237,237,237)",
            "gridcolor": "white",
            "gridwidth": 2,
            "linecolor": "white",
            "showbackground": true,
            "showgrid": true,
            "tickcolor": "rgb(51,51,51)",
            "ticks": "outside",
            "zerolinecolor": "white"
           }
          },
          "shapedefaults": {
           "fillcolor": "black",
           "line": {
            "width": 0
           },
           "opacity": 0.3
          },
          "ternary": {
           "aaxis": {
            "gridcolor": "white",
            "linecolor": "white",
            "showgrid": true,
            "tickcolor": "rgb(51,51,51)",
            "ticks": "outside"
           },
           "baxis": {
            "gridcolor": "white",
            "linecolor": "white",
            "showgrid": true,
            "tickcolor": "rgb(51,51,51)",
            "ticks": "outside"
           },
           "bgcolor": "rgb(237,237,237)",
           "caxis": {
            "gridcolor": "white",
            "linecolor": "white",
            "showgrid": true,
            "tickcolor": "rgb(51,51,51)",
            "ticks": "outside"
           }
          },
          "xaxis": {
           "automargin": true,
           "gridcolor": "white",
           "linecolor": "white",
           "showgrid": true,
           "tickcolor": "rgb(51,51,51)",
           "ticks": "outside",
           "title": {
            "standoff": 15
           },
           "zerolinecolor": "white"
          },
          "yaxis": {
           "automargin": true,
           "gridcolor": "white",
           "linecolor": "white",
           "showgrid": true,
           "tickcolor": "rgb(51,51,51)",
           "ticks": "outside",
           "title": {
            "standoff": 15
           },
           "zerolinecolor": "white"
          }
         }
        },
        "width": 1300,
        "xaxis": {
         "anchor": "y",
         "domain": [
          0,
          1
         ],
         "type": "date"
        },
        "yaxis": {
         "anchor": "x",
         "domain": [
          0,
          1
         ],
         "title": {
          "text": "Topic"
         }
        }
       }
      }
     },
     "metadata": {},
     "output_type": "display_data"
    }
   ],
   "source": [
    "\n",
    "fig = px.timeline(df, x_start=\"Start Date\", x_end=\"End Date\", y=\"Topic\", color=\"Color\", text=\"Name\", width=1300, height=600, template=\"ggplot2\")\n",
    "fig.show()"
   ]
  },
  {
   "cell_type": "code",
   "execution_count": 53,
   "metadata": {},
   "outputs": [],
   "source": [
    "fig.write_image(\"gantt.pdf\")"
   ]
  }
 ],
 "metadata": {
  "kernelspec": {
   "display_name": "Python 3",
   "language": "python",
   "name": "python3"
  },
  "language_info": {
   "codemirror_mode": {
    "name": "ipython",
    "version": 3
   },
   "file_extension": ".py",
   "mimetype": "text/x-python",
   "name": "python",
   "nbconvert_exporter": "python",
   "pygments_lexer": "ipython3",
   "version": "3.8.16 (default, Dec  7 2022, 01:12:06) \n[GCC 11.3.0]"
  },
  "orig_nbformat": 4,
  "vscode": {
   "interpreter": {
    "hash": "5b3ded1ccb95c1d9bd405e7b823d9e85424cde40fbb5985eb47e999ef50e15b4"
   }
  }
 },
 "nbformat": 4,
 "nbformat_minor": 2
}
